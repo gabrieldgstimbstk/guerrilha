{
 "cells": [
  {
   "cell_type": "code",
   "execution_count": 1,
   "id": "0462f7bf-90a8-48d6-90ac-a205c5a69551",
   "metadata": {},
   "outputs": [],
   "source": [
    "import pandas as pd\n",
    "from openpyxl import load_workbook\n",
    "from openpyxl.styles import PatternFill, Border, Side, Alignment, Protection, Font\n",
    "from openpyxl.utils import get_column_letter "
   ]
  },
  {
   "cell_type": "markdown",
   "id": "3a6f0f91-6ce0-488d-95a3-43e4b5ffef00",
   "metadata": {},
   "source": [
    "#### Tratar melhor os tipos de dados recebidos"
   ]
  },
  {
   "cell_type": "code",
   "execution_count": 2,
   "id": "0ab14728-1540-4023-95be-3201e490793a",
   "metadata": {},
   "outputs": [],
   "source": [
    "# Funções"
   ]
  },
  {
   "cell_type": "code",
   "execution_count": 3,
   "id": "8a411cc8-9977-4467-bacc-dc813318a9ab",
   "metadata": {},
   "outputs": [],
   "source": [
    "def ajustar_formato(valor):\n",
    "    if isinstance(valor, str):\n",
    "        valor = valor.replace('.', '').replace(',', '.')\n",
    "    return valor      \n",
    "\n",
    "\n",
    "def map_capacidade(row):\n",
    "    if row['tipo_movel'] == 'ILHA':\n",
    "        return row['ilha']\n",
    "    elif row['tipo_movel'] == 'PG':\n",
    "        return row['pg']\n",
    "    elif row['tipo_movel'] == 'PE':\n",
    "        return row['pe']\n",
    "    else:\n",
    "        return None"
   ]
  },
  {
   "cell_type": "code",
   "execution_count": 4,
   "id": "bc5d9842-bd2f-4680-bbc8-d7bb623a54e3",
   "metadata": {},
   "outputs": [
    {
     "name": "stderr",
     "output_type": "stream",
     "text": [
      "C:\\Users\\Gabriel\\AppData\\Local\\Temp\\ipykernel_3536\\1488734497.py:7: DtypeWarning: Columns (5,7,9,11,13,15,17,19) have mixed types. Specify dtype option on import or set low_memory=False.\n",
      "  expositor_df = pd.read_csv('exp.csv', sep=';')\n"
     ]
    }
   ],
   "source": [
    "\n",
    "\n",
    "# Guerrilha - ITENS MAPEADOS\n",
    "\n",
    "# guerrilha_df = pd.read_csv('guerrilha.csv')\n",
    "guerrilha_df = pd.read_excel('linkker.xlsx')\n",
    "\n",
    "# Exposições - Cadastro de exposições\n",
    "expositor_df = pd.read_csv('exp.csv', sep=';')\n",
    "\n",
    "# Mix Total - Cadastro dos itens\n",
    "mix_total_df = pd.read_csv('mix_total.csv', sep=';')\n",
    "\n",
    "\n",
    "# Cadadatro de Usuário Abastecimento\n",
    "# Informação do analista responsável no Abastecimento por departamento e seção\n",
    "usuario_abastecimento = pd.read_excel('cadastro_usuario_abastecimento.xlsx')"
   ]
  },
  {
   "cell_type": "code",
   "execution_count": 5,
   "id": "4e3240cf-72f6-4411-a7bb-5f8f72670ebc",
   "metadata": {},
   "outputs": [],
   "source": [
    "lojas_sem_limitador = [51, 108, 116, 124, 167, 175, 183, 205, 230, 248, 264, 272, 310, 329, 337]  # Loja sem regra de corte (limitador da venda 15)\n",
    "\n",
    "posicoes_compativeis = ['PE', 'PG', 'ILHA'] # Pontos que são reconhecidos como válidos\n",
    "\n",
    "lista_de_produtos_em_linha = list(mix_total_df['RMS']) # lista dos itens em linha atualmente."
   ]
  },
  {
   "cell_type": "code",
   "execution_count": 6,
   "id": "8713e180-2e48-4a03-bfe8-b156b50e7d00",
   "metadata": {},
   "outputs": [],
   "source": [
    "guerrilha_df['NÚMERO DA LOJA'] = guerrilha_df['NÚMERO DA LOJA'].astype(int)\n",
    "\n",
    "\n",
    "colunas_manter_guerrilha = ['NÚMERO DA LOJA', 'TIPO DE PEX', 'NOME DO PONTO COMERCIALIZADO', 'SIGLA DO PONTO', 'Inicio', 'Fim',\n",
    "                  'DATA DA VENDA', 'TIPO DE PERÍODO', 'USER QUE VENDEU', 'NOME SKU', 'CÓDIGO SKU']\n",
    "\n",
    "guerrilha_df = guerrilha_df.loc[:, colunas_manter_guerrilha]\n",
    "\n",
    "expositor_df['QTDVENDA_30_DIAS'] = pd.to_numeric(expositor_df['QTDVENDA_30_DIAS'].apply(ajustar_formato), errors='coerce')\n",
    "\n",
    "\n",
    "colunas_manter_expositor = ['CODIGO', 'LOJA', 'ILHA_CAP', 'PE_CAP', 'PG_CAP', 'SALDO_CD', 'QTDVENDA_30_DIAS']\n",
    "\n",
    "expositor_df = expositor_df.loc[:, colunas_manter_expositor]"
   ]
  },
  {
   "cell_type": "code",
   "execution_count": 7,
   "id": "f19880c8-2e38-40d8-934d-e803e694410d",
   "metadata": {},
   "outputs": [],
   "source": [
    "colunas_renomear = {\n",
    "    'CÓDIGO SKU': 'codigo_sku',\n",
    "    'NÚMERO DA LOJA': 'loja',\n",
    "    'TIPO DE PEX': 'nome_posicao',\n",
    "    'NOME DO PONTO COMERCIALIZADO': 'posicao_movel',\n",
    "    'SIGLA DO PONTO': 'tipo_movel',\n",
    "    'Inicio': 'dt_inicio',\n",
    "    'Fim': 'dt_fim',  \n",
    "}\n",
    "\n",
    "guerrilha_df.rename(columns=colunas_renomear, inplace= True)\n",
    "\n",
    "guerrilha_df.drop(columns=['DATA DA VENDA','TIPO DE PERÍODO','USER QUE VENDEU','NOME SKU'], inplace=True)\n",
    "guerrilha_df['loja'] = guerrilha_df['loja'].astype(int)"
   ]
  },
  {
   "cell_type": "code",
   "execution_count": 8,
   "id": "3d222341-1dea-4cbd-ae99-9559bc3959e7",
   "metadata": {},
   "outputs": [],
   "source": [
    "colunas_renomear = {\n",
    "    'CODIGO': 'codigo',\n",
    "    'LOJA': 'loja',\n",
    "    'ILHA_CAP': 'ilha',\n",
    "    'PE_CAP': 'pe',\n",
    "    'PG_CAP': 'pg',\n",
    "    'SALDO_CD': 'saldo_cd',\n",
    "    'QTDVENDA_30_DIAS': 'venda_v30',\n",
    "    \n",
    "}\n",
    "\n",
    "expositor_df.rename(columns=colunas_renomear, inplace= True)\n",
    "\n",
    "expositor_df[['pe', 'pg', 'ilha', 'saldo_cd']] = expositor_df[['pe', 'pg', 'ilha', 'saldo_cd']].fillna(0)"
   ]
  },
  {
   "cell_type": "markdown",
   "id": "e6ee72c1-6255-42ce-852b-324d53898c43",
   "metadata": {},
   "source": [
    "#### Juntando mix_total_df com expositor_df"
   ]
  },
  {
   "cell_type": "code",
   "execution_count": 9,
   "id": "4cf39761-9d00-4f07-9f8f-d63bc73492d3",
   "metadata": {},
   "outputs": [],
   "source": [
    "colunas_selecionadas_mix_total = ['DESCRICAO','SISTEMATICA', 'NOME_COMPRADOR', 'NOME_DEPARTAMENTO', 'SECAO', 'NOME_SECAO','TIPO_EMB_TRANSF','EAN']\n",
    "\n",
    "expositor_mix_total = expositor_df.merge(mix_total_df[colunas_selecionadas_mix_total + ['RMS']],\n",
    "                                        how = 'left',\n",
    "                                        left_on='codigo',\n",
    "                                        right_on='RMS')"
   ]
  },
  {
   "cell_type": "code",
   "execution_count": 10,
   "id": "1a6ed3ab-df8f-4ec8-9059-eccce016880a",
   "metadata": {},
   "outputs": [],
   "source": [
    "expositor_mix_total.drop(columns='RMS', inplace=True)\n",
    "expositor_mix_total.dropna(inplace=True)\n",
    "expositor_mix_total[['SECAO','SISTEMATICA']] = expositor_mix_total[['SECAO','SISTEMATICA']].astype(int)\n"
   ]
  },
  {
   "cell_type": "code",
   "execution_count": 11,
   "id": "94b5b4af-6a1a-415c-8097-3cffeaaeee07",
   "metadata": {},
   "outputs": [],
   "source": [
    "colunas_categoricas = ['NOME_SECAO', 'NOME_DEPARTAMENTO', 'NOME_COMPRADOR', 'DESCRICAO','TIPO_EMB_TRANSF','EAN']\n",
    "\n",
    "for coluna in colunas_categoricas:\n",
    "    expositor_mix_total[coluna] = expositor_mix_total[coluna].astype('category')\n"
   ]
  },
  {
   "cell_type": "markdown",
   "id": "35bfad6d-88d9-41ff-881e-3705d2f14c26",
   "metadata": {},
   "source": [
    "### Itens sem exposição mapeados"
   ]
  },
  {
   "cell_type": "code",
   "execution_count": 12,
   "id": "588cbd03-1db0-49cd-bac2-a899c58bc135",
   "metadata": {},
   "outputs": [
    {
     "name": "stdout",
     "output_type": "stream",
     "text": [
      "<class 'pandas.core.frame.DataFrame'>\n",
      "RangeIndex: 13107 entries, 0 to 13106\n",
      "Data columns (total 7 columns):\n",
      " #   Column         Non-Null Count  Dtype \n",
      "---  ------         --------------  ----- \n",
      " 0   loja           13107 non-null  int32 \n",
      " 1   nome_posicao   13107 non-null  object\n",
      " 2   posicao_movel  13107 non-null  object\n",
      " 3   tipo_movel     13107 non-null  object\n",
      " 4   dt_inicio      13107 non-null  object\n",
      " 5   dt_fim         13107 non-null  object\n",
      " 6   codigo_sku     13107 non-null  int64 \n",
      "dtypes: int32(1), int64(1), object(5)\n",
      "memory usage: 665.7+ KB\n"
     ]
    }
   ],
   "source": [
    "guerrilha_df.info()"
   ]
  },
  {
   "cell_type": "code",
   "execution_count": 13,
   "id": "7d6b6a87-95c2-4148-b1ba-9fec4cfa8934",
   "metadata": {},
   "outputs": [
    {
     "name": "stdout",
     "output_type": "stream",
     "text": [
      "<class 'pandas.core.frame.DataFrame'>\n",
      "Index: 408969 entries, 0 to 409018\n",
      "Data columns (total 15 columns):\n",
      " #   Column             Non-Null Count   Dtype   \n",
      "---  ------             --------------   -----   \n",
      " 0   codigo             408969 non-null  int64   \n",
      " 1   loja               408969 non-null  int64   \n",
      " 2   ilha               408969 non-null  object  \n",
      " 3   pe                 408969 non-null  object  \n",
      " 4   pg                 408969 non-null  object  \n",
      " 5   saldo_cd           408969 non-null  object  \n",
      " 6   venda_v30          408969 non-null  float64 \n",
      " 7   DESCRICAO          408969 non-null  category\n",
      " 8   SISTEMATICA        408969 non-null  int32   \n",
      " 9   NOME_COMPRADOR     408969 non-null  category\n",
      " 10  NOME_DEPARTAMENTO  408969 non-null  category\n",
      " 11  SECAO              408969 non-null  int32   \n",
      " 12  NOME_SECAO         408969 non-null  category\n",
      " 13  TIPO_EMB_TRANSF    408969 non-null  category\n",
      " 14  EAN                408969 non-null  category\n",
      "dtypes: category(6), float64(1), int32(2), int64(2), object(4)\n",
      "memory usage: 32.3+ MB\n"
     ]
    }
   ],
   "source": [
    "expositor_mix_total.info()"
   ]
  },
  {
   "cell_type": "code",
   "execution_count": 14,
   "id": "ead1a37a-b271-4ad2-a030-099acad47d90",
   "metadata": {},
   "outputs": [],
   "source": [
    "itens_mapeados_exposicao = guerrilha_df.merge(expositor_mix_total,\n",
    "                                              how ='left',\n",
    "                                              left_on=['loja', 'codigo_sku'],\n",
    "                                              right_on=['loja', 'codigo'],\n",
    "                                             )"
   ]
  },
  {
   "cell_type": "code",
   "execution_count": 15,
   "id": "4b6b568a-b3fd-40c3-92b7-4492026f6bfd",
   "metadata": {},
   "outputs": [],
   "source": [
    "itens_mapeados_exposicao['capacidade_item_movel_mapeado'] = itens_mapeados_exposicao.apply(map_capacidade, axis=1)\n",
    "\n",
    "\n",
    "itens_mapeados_exposicao = itens_mapeados_exposicao.dropna()"
   ]
  },
  {
   "cell_type": "code",
   "execution_count": 16,
   "id": "536b2756-cd65-49f6-be98-39c8e3df01f9",
   "metadata": {},
   "outputs": [],
   "source": [
    "itens_mapeados_sem_cadastro_exposicao = itens_mapeados_exposicao[(itens_mapeados_exposicao['SISTEMATICA'] == 1) &\n",
    "                                                                (itens_mapeados_exposicao['capacidade_item_movel_mapeado'] == 0 ) &\n",
    "                                                                (itens_mapeados_exposicao['TIPO_EMB_TRANSF'] != 'KT') &\n",
    "                                                                (~itens_mapeados_exposicao['EAN'].str.startswith('3'))\n",
    "                                                                ]"
   ]
  },
  {
   "cell_type": "code",
   "execution_count": 17,
   "id": "f8398df8-9081-4831-87ba-389384fdf480",
   "metadata": {},
   "outputs": [
    {
     "data": {
      "text/plain": [
       "(351, 22)"
      ]
     },
     "execution_count": 17,
     "metadata": {},
     "output_type": "execute_result"
    }
   ],
   "source": [
    "itens_mapeados_sem_cadastro_exposicao.shape"
   ]
  },
  {
   "cell_type": "code",
   "execution_count": 18,
   "id": "109b07d2-71a8-4f7c-a09c-05df6892749a",
   "metadata": {},
   "outputs": [],
   "source": [
    "itens_mapeados_sem_cadastro_exposicao = itens_mapeados_sem_cadastro_exposicao.merge(usuario_abastecimento,\n",
    "                                                                                   how='left',\n",
    "                                                                                   left_on= 'SECAO',\n",
    "                                                                                   right_on= 'secao_id'\n",
    "                                                                                   )"
   ]
  },
  {
   "cell_type": "code",
   "execution_count": 19,
   "id": "5c6d10d3-1840-47c1-94cc-3a18a9affa44",
   "metadata": {},
   "outputs": [],
   "source": [
    "itens_mapeados_sem_cadastro_exposicao = itens_mapeados_sem_cadastro_exposicao.copy()\n",
    "itens_mapeados_sem_cadastro_exposicao.dropna(inplace=True)\n",
    "colunas_manter_relatorio_abastecimento = ['loja','tipo_movel','codigo_sku','DESCRICAO','capacidade_item_movel_mapeado','analista_abastecimento']\n",
    "\n",
    "\n",
    "relatorio_itens_sem_cadastro_exposicao = itens_mapeados_sem_cadastro_exposicao.loc[:,colunas_manter_relatorio_abastecimento]"
   ]
  },
  {
   "cell_type": "code",
   "execution_count": 20,
   "id": "31a4ff97-6b20-4787-9349-5c3eb0c4a0af",
   "metadata": {},
   "outputs": [],
   "source": [
    "relatorio_itens_sem_cadastro_exposicao['Situação Item'] = '⚠️ Cadastrar Exposição!'"
   ]
  },
  {
   "cell_type": "code",
   "execution_count": 21,
   "id": "3b1ddf75-fc5d-445a-bb8e-e503d6cb7959",
   "metadata": {
    "scrolled": true
   },
   "outputs": [
    {
     "name": "stdout",
     "output_type": "stream",
     "text": [
      "itens_mapeados_sem_expositor_cadastrado.xlsx exportado com sucesso ✅\n"
     ]
    }
   ],
   "source": [
    "relatorio_itens_sem_cadastro_exposicao['capacidade_item_movel_mapeado'] = relatorio_itens_sem_cadastro_exposicao['capacidade_item_movel_mapeado'].astype(float)\n",
    "\n",
    "nome_relatorio_abastecimento = 'itens_mapeados_sem_expositor_cadastrado.xlsx'\n",
    "\n",
    "writer = pd.ExcelWriter(nome_relatorio_abastecimento, engine='xlsxwriter')\n",
    "\n",
    "\n",
    "\n",
    "colunas_renomear_abastecimento ={\n",
    "    'loja':'Loja', \n",
    "     'tipo_movel':'Móvel', \n",
    "     'codigo_sku':'Código Produto', \n",
    "     'DESCRICAO':'Descrição', \n",
    "     'capacidade_item_movel_mapeado':'Capacidade Cadastrado', \n",
    "     'analista_abastecimento':'Analista Abastecimento'\n",
    "    }\n",
    "\n",
    "relatorio_itens_sem_cadastro_exposicao.rename(columns=colunas_renomear_abastecimento, inplace =True )\n",
    "\n",
    "analistas = relatorio_itens_sem_cadastro_exposicao['Analista Abastecimento'].unique()\n",
    "\n",
    "for analista in analistas:\n",
    "    analista_df = relatorio_itens_sem_cadastro_exposicao[relatorio_itens_sem_cadastro_exposicao['Analista Abastecimento'] == analista]\n",
    "    analista_df.to_excel(writer, sheet_name=analista, index=False)\n",
    "\n",
    "writer.close()\n",
    "\n",
    "wb = load_workbook(f'{nome_relatorio_abastecimento}')\n",
    "\n",
    "\n",
    "for sheet_name in wb.sheetnames:\n",
    "    ws = wb[sheet_name]\n",
    "\n",
    "    # celulas dos titulos das colunas\n",
    "    for cell in ws[1]:\n",
    "        cell.fill = PatternFill(start_color=\"595959\", end_color=\"595959\", fill_type = \"solid\")\n",
    "        cell.font = Font(color=\"D9D9D9\")\n",
    "\n",
    "    # bordas das celulas\n",
    "    thin_border = Border(left=Side(style='thin'), \n",
    "                         right=Side(style='thin'), \n",
    "                         top=Side(style='thin'), \n",
    "                         bottom=Side(style='thin'))\n",
    "\n",
    "    alignment = Alignment(horizontal='center', vertical='center')\n",
    "    for row in ws:\n",
    "        for cell in row:\n",
    "            cell.border = thin_border\n",
    "            cell.alignment = alignment\n",
    "\n",
    "    for i, col in enumerate(relatorio_itens_sem_cadastro_exposicao.columns):\n",
    "        max_length = max(\n",
    "            relatorio_itens_sem_cadastro_exposicao[col].astype(str).map(len).max(),\n",
    "            len(str(col))\n",
    "        )\n",
    "        ws.column_dimensions[get_column_letter(i+1)].width = max_length\n",
    "\n",
    "# Salve a planilha\n",
    "wb.save('itens_mapeados_sem_expositor_cadastrado.xlsx')\n",
    "\n",
    "print(f'{nome_relatorio_abastecimento} exportado com sucesso ✅')"
   ]
  },
  {
   "cell_type": "markdown",
   "id": "cfaf4f38-2b7d-4578-af98-123a38892192",
   "metadata": {},
   "source": [
    "#### Relatório comercial"
   ]
  },
  {
   "cell_type": "code",
   "execution_count": null,
   "id": "61f97bcc-d4ec-426e-ae30-36e3075c617a",
   "metadata": {},
   "outputs": [],
   "source": []
  },
  {
   "cell_type": "code",
   "execution_count": 22,
   "id": "2398666c-03d1-42a5-8602-94fe60e245e4",
   "metadata": {},
   "outputs": [],
   "source": [
    "itens_mapeados_exposicao['capacidade_item_movel_mapeado'] = itens_mapeados_exposicao['capacidade_item_movel_mapeado'].apply(ajustar_formato).astype(float)\n",
    "\n"
   ]
  },
  {
   "cell_type": "code",
   "execution_count": 23,
   "id": "f4ea4fc5-2d55-4c35-897e-859be5e9a02a",
   "metadata": {},
   "outputs": [],
   "source": [
    "itens_mapeados_exposicao['saldo_cd'] = itens_mapeados_exposicao['saldo_cd'].apply(ajustar_formato).astype(float)\n",
    "itens_mapeados_exposicao['tipo_movel'] = itens_mapeados_exposicao['tipo_movel'].astype('category')"
   ]
  },
  {
   "cell_type": "code",
   "execution_count": 24,
   "id": "cb08cb05-e4cf-461b-ad7e-6408de1f1170",
   "metadata": {},
   "outputs": [],
   "source": [
    "itens_mapeados_exposicao.drop(columns='codigo', inplace= True)"
   ]
  },
  {
   "cell_type": "code",
   "execution_count": 25,
   "id": "f5b098e7-f967-4bc2-8f33-5f5a4dac5d38",
   "metadata": {},
   "outputs": [],
   "source": [
    "relatorio_comercial = itens_mapeados_exposicao[\n",
    "    (itens_mapeados_exposicao['saldo_cd'] > 0) &\n",
    "    (itens_mapeados_exposicao['SISTEMATICA'] == 1) &\n",
    "    (itens_mapeados_exposicao['tipo_movel'].isin(posicoes_compativeis)) &\n",
    "    (itens_mapeados_exposicao['loja'].isin(lojas_sem_limitador)) &\n",
    "    (itens_mapeados_exposicao['codigo_sku'].isin(lista_de_produtos_em_linha))\n",
    "]\n"
   ]
  },
  {
   "cell_type": "code",
   "execution_count": 26,
   "id": "a494f5f0-4e7c-4bd1-ade0-f532a3b1a9ea",
   "metadata": {},
   "outputs": [],
   "source": [
    "agupar_venda30_por_posicao = relatorio_comercial.groupby(['loja', 'posicao_movel'])['venda_v30'].sum().reset_index()\n",
    "agupar_venda30_por_posicao = agupar_venda30_por_posicao.rename(columns={'venda_v30': 'venda_30_posicao'})\n",
    "\n",
    "relatorio_comercial = pd.merge(relatorio_comercial,agupar_venda30_por_posicao, on=['loja', 'posicao_movel'], how='left')\n"
   ]
  },
  {
   "cell_type": "code",
   "execution_count": 27,
   "id": "8e8f4db0-4a9b-4ee2-9849-6543032aeffb",
   "metadata": {},
   "outputs": [],
   "source": [
    "relatorio_comercial['qtd_expositor_posicao'] = 0\n",
    "\n",
    "\n",
    "\n",
    "for index, row in relatorio_comercial.iterrows():\n",
    "    venda_30 = row['venda_v30']\n",
    "    soma_venda_posicao = row['venda_30_posicao']\n",
    "    capacidade_produto_movel_mapeado =  row['capacidade_item_movel_mapeado']\n",
    "    saldo_cd = row['saldo_cd']\n",
    "\n",
    "    if saldo_cd > 1:\n",
    "        if soma_venda_posicao != 0:\n",
    "                    relatorio_comercial.at[index,'percentual_rateio'] = (venda_30 / soma_venda_posicao)\n",
    "                    qtd_exp_temp = (venda_30 / soma_venda_posicao) * capacidade_produto_movel_mapeado\n",
    "                    relatorio_comercial.at[index, 'qtd_expositor_posicao'] = int(qtd_exp_temp)\n",
    "relatorio_comercial['qtd_expositor_total'] = relatorio_comercial.groupby(['loja', 'codigo_sku'])['qtd_expositor_posicao'].transform('sum')\n",
    "\n",
    "\n",
    "\n",
    "relatorio_comercial['qtd_mapeado_mesma_loja'] =  relatorio_comercial.groupby(['loja', 'codigo_sku'])['codigo_sku'].transform('count')\n"
   ]
  },
  {
   "cell_type": "code",
   "execution_count": 28,
   "id": "6216b8da-db1e-4f21-907f-0d1d70a931ca",
   "metadata": {},
   "outputs": [
    {
     "name": "stdout",
     "output_type": "stream",
     "text": [
      "Relatorio Comercial Agrupado exportado com sucesso ✅\n"
     ]
    }
   ],
   "source": [
    "relatorio_comercial.to_excel('relatório_agrupado_guerrilha.xlsx', index=False)\n",
    "\n",
    "print(f'Relatorio Comercial Agrupado exportado com sucesso ✅')"
   ]
  },
  {
   "cell_type": "code",
   "execution_count": null,
   "id": "a400c713-2316-4617-bb13-5e86ee66c9c9",
   "metadata": {},
   "outputs": [],
   "source": []
  }
 ],
 "metadata": {
  "kernelspec": {
   "display_name": "Python 3 (ipykernel)",
   "language": "python",
   "name": "python3"
  },
  "language_info": {
   "codemirror_mode": {
    "name": "ipython",
    "version": 3
   },
   "file_extension": ".py",
   "mimetype": "text/x-python",
   "name": "python",
   "nbconvert_exporter": "python",
   "pygments_lexer": "ipython3",
   "version": "3.11.4"
  }
 },
 "nbformat": 4,
 "nbformat_minor": 5
}
