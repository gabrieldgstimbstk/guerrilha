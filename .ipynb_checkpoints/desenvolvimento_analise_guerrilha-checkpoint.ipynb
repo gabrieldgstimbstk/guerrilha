{
 "cells": [
  {
   "cell_type": "code",
   "execution_count": 1,
   "id": "0462f7bf-90a8-48d6-90ac-a205c5a69551",
   "metadata": {},
   "outputs": [],
   "source": [
    "import pandas as pd\n",
    "from openpyxl import load_workbook\n",
    "from openpyxl.styles import PatternFill, Border, Side, Alignment, Protection, Font\n",
    "from openpyxl.utils import get_column_letter "
   ]
  },
  {
   "cell_type": "markdown",
   "id": "3a6f0f91-6ce0-488d-95a3-43e4b5ffef00",
   "metadata": {},
   "source": [
    "#### Tratar melhor os tipos de dados recebidos"
   ]
  },
  {
   "cell_type": "code",
   "execution_count": 2,
   "id": "0ab14728-1540-4023-95be-3201e490793a",
   "metadata": {},
   "outputs": [],
   "source": [
    "# Funções"
   ]
  },
  {
   "cell_type": "code",
   "execution_count": 3,
   "id": "8a411cc8-9977-4467-bacc-dc813318a9ab",
   "metadata": {},
   "outputs": [],
   "source": [
    "def ajustar_formato(valor):\n",
    "    if isinstance(valor, str):\n",
    "        valor = valor.replace('.', '').replace(',', '.')\n",
    "    return valor      \n",
    "\n",
    "\n",
    "def map_capacidade(row):\n",
    "    if row['tipo_movel'] == 'ILHA':\n",
    "        return row['ilha']\n",
    "    elif row['tipo_movel'] == 'PG':\n",
    "        return row['pg']\n",
    "    elif row['tipo_movel'] == 'PE':\n",
    "        return row['pe']\n",
    "    else:\n",
    "        return None\n",
    "\n",
    "\n",
    "def analisar_desvio_quantidade(row):\n",
    "    if row['qtd_expositor_total'] > row['venda_v30']:\n",
    "        return '⚠️ Atenção Expositor Maior que a venda!'\n",
    "    else:\n",
    "        return '✅ Ok'"
   ]
  },
  {
   "cell_type": "code",
   "execution_count": 4,
   "id": "bc5d9842-bd2f-4680-bbc8-d7bb623a54e3",
   "metadata": {},
   "outputs": [
    {
     "name": "stderr",
     "output_type": "stream",
     "text": [
      "C:\\Users\\Gabriel\\AppData\\Local\\Temp\\ipykernel_17844\\1488734497.py:7: DtypeWarning: Columns (5,7,9,11,13,15,17,19) have mixed types. Specify dtype option on import or set low_memory=False.\n",
      "  expositor_df = pd.read_csv('exp.csv', sep=';')\n"
     ]
    }
   ],
   "source": [
    "\n",
    "\n",
    "# Guerrilha - ITENS MAPEADOS\n",
    "\n",
    "# guerrilha_df = pd.read_csv('guerrilha.csv')\n",
    "guerrilha_df = pd.read_excel('linkker.xlsx')\n",
    "\n",
    "# Exposições - Cadastro de exposições\n",
    "expositor_df = pd.read_csv('exp.csv', sep=';')\n",
    "\n",
    "# Mix Total - Cadastro dos itens\n",
    "mix_total_df = pd.read_csv('mix_total.csv', sep=';')\n",
    "\n",
    "\n",
    "# Cadadatro de Usuário Abastecimento\n",
    "# Informação do analista responsável no Abastecimento por departamento e seção\n",
    "usuario_abastecimento = pd.read_excel('cadastro_usuario_abastecimento.xlsx')"
   ]
  },
  {
   "cell_type": "code",
   "execution_count": 5,
   "id": "4e3240cf-72f6-4411-a7bb-5f8f72670ebc",
   "metadata": {},
   "outputs": [],
   "source": [
    "lojas_sem_limitador = [51, 108, 116, 124, 167, 175, 183, 205, 230, 248, 264, 272, 310, 329, 337]  # Loja sem regra de corte (limitador da venda 15)\n",
    "\n",
    "posicoes_compativeis = ['PE', 'PG', 'ILHA'] # Pontos que são reconhecidos como válidos\n",
    "\n",
    "lista_de_produtos_em_linha = list(mix_total_df['RMS']) # lista dos itens em linha atualmente."
   ]
  },
  {
   "cell_type": "code",
   "execution_count": 6,
   "id": "8713e180-2e48-4a03-bfe8-b156b50e7d00",
   "metadata": {},
   "outputs": [],
   "source": [
    "guerrilha_df['NÚMERO DA LOJA'] = guerrilha_df['NÚMERO DA LOJA'].astype(int)\n",
    "\n",
    "\n",
    "colunas_manter_guerrilha = ['NÚMERO DA LOJA', 'TIPO DE PEX', 'NOME DO PONTO COMERCIALIZADO', 'SIGLA DO PONTO', 'Inicio', 'Fim',\n",
    "                  'DATA DA VENDA', 'TIPO DE PERÍODO', 'USER QUE VENDEU', 'NOME SKU', 'CÓDIGO SKU']\n",
    "\n",
    "guerrilha_df = guerrilha_df.loc[:, colunas_manter_guerrilha]\n",
    "\n",
    "expositor_df['QTDVENDA_30_DIAS'] = pd.to_numeric(expositor_df['QTDVENDA_30_DIAS'].apply(ajustar_formato), errors='coerce')\n",
    "\n",
    "\n",
    "colunas_manter_expositor = ['CODIGO', 'LOJA', 'ILHA_CAP', 'PE_CAP', 'PG_CAP', 'SALDO_CD', 'QTDVENDA_30_DIAS']\n",
    "\n",
    "expositor_df = expositor_df.loc[:, colunas_manter_expositor]"
   ]
  },
  {
   "cell_type": "code",
   "execution_count": 7,
   "id": "f19880c8-2e38-40d8-934d-e803e694410d",
   "metadata": {},
   "outputs": [],
   "source": [
    "colunas_renomear = {\n",
    "    'CÓDIGO SKU': 'codigo_sku',\n",
    "    'NÚMERO DA LOJA': 'loja',\n",
    "    'TIPO DE PEX': 'nome_posicao',\n",
    "    'NOME DO PONTO COMERCIALIZADO': 'posicao_movel',\n",
    "    'SIGLA DO PONTO': 'tipo_movel',\n",
    "    'Inicio': 'dt_inicio',\n",
    "    'Fim': 'dt_fim',  \n",
    "}\n",
    "\n",
    "guerrilha_df.rename(columns=colunas_renomear, inplace= True)\n",
    "\n",
    "guerrilha_df.drop(columns=['DATA DA VENDA','TIPO DE PERÍODO','USER QUE VENDEU','NOME SKU'], inplace=True)\n",
    "guerrilha_df['loja'] = guerrilha_df['loja'].astype(int)"
   ]
  },
  {
   "cell_type": "code",
   "execution_count": 8,
   "id": "3d222341-1dea-4cbd-ae99-9559bc3959e7",
   "metadata": {},
   "outputs": [],
   "source": [
    "colunas_renomear = {\n",
    "    'CODIGO': 'codigo',\n",
    "    'LOJA': 'loja',\n",
    "    'ILHA_CAP': 'ilha',\n",
    "    'PE_CAP': 'pe',\n",
    "    'PG_CAP': 'pg',\n",
    "    'SALDO_CD': 'saldo_cd',\n",
    "    'QTDVENDA_30_DIAS': 'venda_v30',\n",
    "    \n",
    "}\n",
    "\n",
    "expositor_df.rename(columns=colunas_renomear, inplace= True)\n",
    "\n",
    "expositor_df[['pe', 'pg', 'ilha', 'saldo_cd']] = expositor_df[['pe', 'pg', 'ilha', 'saldo_cd']].fillna(0)"
   ]
  },
  {
   "cell_type": "markdown",
   "id": "e6ee72c1-6255-42ce-852b-324d53898c43",
   "metadata": {},
   "source": [
    "#### Juntando mix_total_df com expositor_df"
   ]
  },
  {
   "cell_type": "code",
   "execution_count": 9,
   "id": "4cf39761-9d00-4f07-9f8f-d63bc73492d3",
   "metadata": {},
   "outputs": [],
   "source": [
    "colunas_selecionadas_mix_total = ['DESCRICAO','SISTEMATICA', 'NOME_COMPRADOR', 'NOME_DEPARTAMENTO', 'SECAO', 'NOME_SECAO','TIPO_EMB_TRANSF','EAN']\n",
    "\n",
    "expositor_mix_total = expositor_df.merge(mix_total_df[colunas_selecionadas_mix_total + ['RMS']],\n",
    "                                        how = 'left',\n",
    "                                        left_on='codigo',\n",
    "                                        right_on='RMS')"
   ]
  },
  {
   "cell_type": "code",
   "execution_count": 10,
   "id": "1a6ed3ab-df8f-4ec8-9059-eccce016880a",
   "metadata": {},
   "outputs": [],
   "source": [
    "expositor_mix_total.drop(columns='RMS', inplace=True)\n",
    "expositor_mix_total.dropna(inplace=True)\n",
    "expositor_mix_total[['SECAO','SISTEMATICA']] = expositor_mix_total[['SECAO','SISTEMATICA']].astype(int)\n"
   ]
  },
  {
   "cell_type": "code",
   "execution_count": 11,
   "id": "94b5b4af-6a1a-415c-8097-3cffeaaeee07",
   "metadata": {},
   "outputs": [],
   "source": [
    "colunas_categoricas = ['NOME_SECAO', 'NOME_DEPARTAMENTO', 'NOME_COMPRADOR', 'DESCRICAO','TIPO_EMB_TRANSF','EAN']\n",
    "\n",
    "for coluna in colunas_categoricas:\n",
    "    expositor_mix_total[coluna] = expositor_mix_total[coluna].astype('category')\n"
   ]
  },
  {
   "cell_type": "markdown",
   "id": "35bfad6d-88d9-41ff-881e-3705d2f14c26",
   "metadata": {},
   "source": [
    "### Itens sem exposição mapeados"
   ]
  },
  {
   "cell_type": "code",
   "execution_count": 12,
   "id": "588cbd03-1db0-49cd-bac2-a899c58bc135",
   "metadata": {},
   "outputs": [
    {
     "name": "stdout",
     "output_type": "stream",
     "text": [
      "<class 'pandas.core.frame.DataFrame'>\n",
      "RangeIndex: 13107 entries, 0 to 13106\n",
      "Data columns (total 7 columns):\n",
      " #   Column         Non-Null Count  Dtype \n",
      "---  ------         --------------  ----- \n",
      " 0   loja           13107 non-null  int32 \n",
      " 1   nome_posicao   13107 non-null  object\n",
      " 2   posicao_movel  13107 non-null  object\n",
      " 3   tipo_movel     13107 non-null  object\n",
      " 4   dt_inicio      13107 non-null  object\n",
      " 5   dt_fim         13107 non-null  object\n",
      " 6   codigo_sku     13107 non-null  int64 \n",
      "dtypes: int32(1), int64(1), object(5)\n",
      "memory usage: 665.7+ KB\n"
     ]
    }
   ],
   "source": [
    "guerrilha_df.info()"
   ]
  },
  {
   "cell_type": "code",
   "execution_count": 13,
   "id": "7d6b6a87-95c2-4148-b1ba-9fec4cfa8934",
   "metadata": {},
   "outputs": [
    {
     "name": "stdout",
     "output_type": "stream",
     "text": [
      "<class 'pandas.core.frame.DataFrame'>\n",
      "Index: 408969 entries, 0 to 409018\n",
      "Data columns (total 15 columns):\n",
      " #   Column             Non-Null Count   Dtype   \n",
      "---  ------             --------------   -----   \n",
      " 0   codigo             408969 non-null  int64   \n",
      " 1   loja               408969 non-null  int64   \n",
      " 2   ilha               408969 non-null  object  \n",
      " 3   pe                 408969 non-null  object  \n",
      " 4   pg                 408969 non-null  object  \n",
      " 5   saldo_cd           408969 non-null  object  \n",
      " 6   venda_v30          408969 non-null  float64 \n",
      " 7   DESCRICAO          408969 non-null  category\n",
      " 8   SISTEMATICA        408969 non-null  int32   \n",
      " 9   NOME_COMPRADOR     408969 non-null  category\n",
      " 10  NOME_DEPARTAMENTO  408969 non-null  category\n",
      " 11  SECAO              408969 non-null  int32   \n",
      " 12  NOME_SECAO         408969 non-null  category\n",
      " 13  TIPO_EMB_TRANSF    408969 non-null  category\n",
      " 14  EAN                408969 non-null  category\n",
      "dtypes: category(6), float64(1), int32(2), int64(2), object(4)\n",
      "memory usage: 32.3+ MB\n"
     ]
    }
   ],
   "source": [
    "expositor_mix_total.info()"
   ]
  },
  {
   "cell_type": "code",
   "execution_count": 14,
   "id": "ead1a37a-b271-4ad2-a030-099acad47d90",
   "metadata": {},
   "outputs": [],
   "source": [
    "itens_mapeados_exposicao = guerrilha_df.merge(expositor_mix_total,\n",
    "                                              how ='left',\n",
    "                                              left_on=['loja', 'codigo_sku'],\n",
    "                                              right_on=['loja', 'codigo'],\n",
    "                                             )"
   ]
  },
  {
   "cell_type": "code",
   "execution_count": 15,
   "id": "4b6b568a-b3fd-40c3-92b7-4492026f6bfd",
   "metadata": {},
   "outputs": [],
   "source": [
    "itens_mapeados_exposicao['capacidade_item_movel_mapeado'] = itens_mapeados_exposicao.apply(map_capacidade, axis=1)\n",
    "\n",
    "\n",
    "itens_mapeados_exposicao = itens_mapeados_exposicao.dropna()"
   ]
  },
  {
   "cell_type": "code",
   "execution_count": 16,
   "id": "536b2756-cd65-49f6-be98-39c8e3df01f9",
   "metadata": {},
   "outputs": [],
   "source": [
    "itens_mapeados_sem_cadastro_exposicao = itens_mapeados_exposicao[(itens_mapeados_exposicao['SISTEMATICA'] == 1) &\n",
    "                                                                (itens_mapeados_exposicao['capacidade_item_movel_mapeado'] == 0 ) &\n",
    "                                                                (itens_mapeados_exposicao['TIPO_EMB_TRANSF'] != 'KT') &\n",
    "                                                                (~itens_mapeados_exposicao['EAN'].str.startswith('3'))\n",
    "                                                                ]"
   ]
  },
  {
   "cell_type": "code",
   "execution_count": 17,
   "id": "f8398df8-9081-4831-87ba-389384fdf480",
   "metadata": {},
   "outputs": [
    {
     "data": {
      "text/plain": [
       "(351, 22)"
      ]
     },
     "execution_count": 17,
     "metadata": {},
     "output_type": "execute_result"
    }
   ],
   "source": [
    "itens_mapeados_sem_cadastro_exposicao.shape"
   ]
  },
  {
   "cell_type": "code",
   "execution_count": 18,
   "id": "109b07d2-71a8-4f7c-a09c-05df6892749a",
   "metadata": {},
   "outputs": [],
   "source": [
    "itens_mapeados_sem_cadastro_exposicao = itens_mapeados_sem_cadastro_exposicao.merge(usuario_abastecimento,\n",
    "                                                                                   how='left',\n",
    "                                                                                   left_on= 'SECAO',\n",
    "                                                                                   right_on= 'secao_id'\n",
    "                                                                                   )"
   ]
  },
  {
   "cell_type": "code",
   "execution_count": 19,
   "id": "5c6d10d3-1840-47c1-94cc-3a18a9affa44",
   "metadata": {},
   "outputs": [],
   "source": [
    "itens_mapeados_sem_cadastro_exposicao = itens_mapeados_sem_cadastro_exposicao.copy()\n",
    "itens_mapeados_sem_cadastro_exposicao.dropna(inplace=True)\n",
    "colunas_manter_relatorio_abastecimento = ['loja','tipo_movel','codigo_sku','DESCRICAO','capacidade_item_movel_mapeado','analista_abastecimento']\n",
    "\n",
    "\n",
    "relatorio_itens_sem_cadastro_exposicao = itens_mapeados_sem_cadastro_exposicao.loc[:,colunas_manter_relatorio_abastecimento]"
   ]
  },
  {
   "cell_type": "code",
   "execution_count": 20,
   "id": "31a4ff97-6b20-4787-9349-5c3eb0c4a0af",
   "metadata": {},
   "outputs": [],
   "source": [
    "relatorio_itens_sem_cadastro_exposicao['Situação Item'] = '⚠️ Cadastrar Exposição!'"
   ]
  },
  {
   "cell_type": "code",
   "execution_count": 21,
   "id": "3b1ddf75-fc5d-445a-bb8e-e503d6cb7959",
   "metadata": {
    "scrolled": true
   },
   "outputs": [
    {
     "name": "stdout",
     "output_type": "stream",
     "text": [
      "itens_mapeados_sem_expositor_cadastrado.xlsx exportado com sucesso ✅\n"
     ]
    }
   ],
   "source": [
    "relatorio_itens_sem_cadastro_exposicao['capacidade_item_movel_mapeado'] = relatorio_itens_sem_cadastro_exposicao['capacidade_item_movel_mapeado'].astype(float)\n",
    "\n",
    "nome_relatorio_abastecimento = 'itens_mapeados_sem_expositor_cadastrado.xlsx'\n",
    "\n",
    "writer = pd.ExcelWriter(nome_relatorio_abastecimento, engine='xlsxwriter')\n",
    "\n",
    "\n",
    "\n",
    "colunas_renomear_abastecimento ={\n",
    "    'loja':'Loja', \n",
    "     'tipo_movel':'Móvel', \n",
    "     'codigo_sku':'Código Produto', \n",
    "     'DESCRICAO':'Descrição', \n",
    "     'capacidade_item_movel_mapeado':'Capacidade Cadastrado', \n",
    "     'analista_abastecimento':'Analista Abastecimento'\n",
    "    }\n",
    "\n",
    "relatorio_itens_sem_cadastro_exposicao.rename(columns=colunas_renomear_abastecimento, inplace =True )\n",
    "\n",
    "analistas = relatorio_itens_sem_cadastro_exposicao['Analista Abastecimento'].unique()\n",
    "\n",
    "for analista in analistas:\n",
    "    analista_df = relatorio_itens_sem_cadastro_exposicao[relatorio_itens_sem_cadastro_exposicao['Analista Abastecimento'] == analista]\n",
    "    analista_df.to_excel(writer, sheet_name=analista, index=False)\n",
    "\n",
    "writer.close()\n",
    "\n",
    "wb = load_workbook(f'{nome_relatorio_abastecimento}')\n",
    "\n",
    "\n",
    "for sheet_name in wb.sheetnames:\n",
    "    ws = wb[sheet_name]\n",
    "\n",
    "    # celulas dos titulos das colunas\n",
    "    for cell in ws[1]:\n",
    "        cell.fill = PatternFill(start_color=\"595959\", end_color=\"595959\", fill_type = \"solid\")\n",
    "        cell.font = Font(color=\"D9D9D9\")\n",
    "\n",
    "    # bordas das celulas\n",
    "    thin_border = Border(left=Side(style='thin'), \n",
    "                         right=Side(style='thin'), \n",
    "                         top=Side(style='thin'), \n",
    "                         bottom=Side(style='thin'))\n",
    "\n",
    "    alignment = Alignment(horizontal='center', vertical='center')\n",
    "    for row in ws:\n",
    "        for cell in row:\n",
    "            cell.border = thin_border\n",
    "            cell.alignment = alignment\n",
    "\n",
    "    for i, col in enumerate(relatorio_itens_sem_cadastro_exposicao.columns):\n",
    "        max_length = max(\n",
    "            relatorio_itens_sem_cadastro_exposicao[col].astype(str).map(len).max(),\n",
    "            len(str(col))\n",
    "        )\n",
    "        ws.column_dimensions[get_column_letter(i+1)].width = max_length\n",
    "\n",
    "# Salve a planilha\n",
    "wb.save('itens_mapeados_sem_expositor_cadastrado.xlsx')\n",
    "\n",
    "print(f'{nome_relatorio_abastecimento} exportado com sucesso ✅')"
   ]
  },
  {
   "cell_type": "markdown",
   "id": "cfaf4f38-2b7d-4578-af98-123a38892192",
   "metadata": {},
   "source": [
    "#### Relatório comercial"
   ]
  },
  {
   "cell_type": "code",
   "execution_count": null,
   "id": "61f97bcc-d4ec-426e-ae30-36e3075c617a",
   "metadata": {},
   "outputs": [],
   "source": []
  },
  {
   "cell_type": "code",
   "execution_count": 22,
   "id": "2398666c-03d1-42a5-8602-94fe60e245e4",
   "metadata": {},
   "outputs": [],
   "source": [
    "itens_mapeados_exposicao['capacidade_item_movel_mapeado'] = itens_mapeados_exposicao['capacidade_item_movel_mapeado'].apply(ajustar_formato).astype(float)\n",
    "\n"
   ]
  },
  {
   "cell_type": "code",
   "execution_count": 23,
   "id": "f4ea4fc5-2d55-4c35-897e-859be5e9a02a",
   "metadata": {},
   "outputs": [],
   "source": [
    "itens_mapeados_exposicao['saldo_cd'] = itens_mapeados_exposicao['saldo_cd'].apply(ajustar_formato).astype(float)\n",
    "itens_mapeados_exposicao['tipo_movel'] = itens_mapeados_exposicao['tipo_movel'].astype('category')"
   ]
  },
  {
   "cell_type": "code",
   "execution_count": 24,
   "id": "cb08cb05-e4cf-461b-ad7e-6408de1f1170",
   "metadata": {},
   "outputs": [],
   "source": [
    "itens_mapeados_exposicao.drop(columns='codigo', inplace= True)"
   ]
  },
  {
   "cell_type": "code",
   "execution_count": 25,
   "id": "f5b098e7-f967-4bc2-8f33-5f5a4dac5d38",
   "metadata": {},
   "outputs": [],
   "source": [
    "relatorio_comercial = itens_mapeados_exposicao[\n",
    "    (itens_mapeados_exposicao['saldo_cd'] > 0) &\n",
    "    (itens_mapeados_exposicao['SISTEMATICA'] == 1) &\n",
    "    (itens_mapeados_exposicao['tipo_movel'].isin(posicoes_compativeis)) &\n",
    "    (itens_mapeados_exposicao['loja'].isin(lojas_sem_limitador)) &\n",
    "    (itens_mapeados_exposicao['codigo_sku'].isin(lista_de_produtos_em_linha))\n",
    "]"
   ]
  },
  {
   "cell_type": "code",
   "execution_count": 26,
   "id": "a494f5f0-4e7c-4bd1-ade0-f532a3b1a9ea",
   "metadata": {},
   "outputs": [],
   "source": [
    "agupar_venda30_por_posicao = relatorio_comercial.groupby(['loja', 'posicao_movel'])['venda_v30'].sum().reset_index()\n",
    "agupar_venda30_por_posicao = agupar_venda30_por_posicao.rename(columns={'venda_v30': 'venda_30_posicao'})\n",
    "\n",
    "relatorio_comercial = pd.merge(relatorio_comercial,agupar_venda30_por_posicao, on=['loja', 'posicao_movel'], how='left')\n"
   ]
  },
  {
   "cell_type": "code",
   "execution_count": 27,
   "id": "8e8f4db0-4a9b-4ee2-9849-6543032aeffb",
   "metadata": {},
   "outputs": [],
   "source": [
    "relatorio_comercial['qtd_expositor_posicao'] = 0\n",
    "\n",
    "\n",
    "\n",
    "for index, row in relatorio_comercial.iterrows():\n",
    "    venda_30 = row['venda_v30']\n",
    "    soma_venda_posicao = row['venda_30_posicao']\n",
    "    capacidade_produto_movel_mapeado =  row['capacidade_item_movel_mapeado']\n",
    "    saldo_cd = row['saldo_cd']\n",
    "\n",
    "    if saldo_cd > 1:\n",
    "        if soma_venda_posicao != 0:\n",
    "                    relatorio_comercial.at[index,'percentual_rateio'] = (venda_30 / soma_venda_posicao)\n",
    "                    qtd_exp_temp = (venda_30 / soma_venda_posicao) * capacidade_produto_movel_mapeado\n",
    "                    relatorio_comercial.at[index, 'qtd_expositor_posicao'] = int(qtd_exp_temp)\n",
    "relatorio_comercial['qtd_expositor_total'] = relatorio_comercial.groupby(['loja', 'codigo_sku'])['qtd_expositor_posicao'].transform('sum')\n",
    "\n",
    "\n",
    "\n",
    "relatorio_comercial['qtd_mapeado_mesma_loja'] =  relatorio_comercial.groupby(['loja', 'codigo_sku'])['codigo_sku'].transform('count')\n"
   ]
  },
  {
   "cell_type": "code",
   "execution_count": 28,
   "id": "f1051398-4ac7-4088-96f7-15675bf46c5f",
   "metadata": {},
   "outputs": [],
   "source": [
    "\n",
    "relatorio_comercial['analisar'] = relatorio_comercial.apply(analisar_desvio_quantidade, axis=1)\n"
   ]
  },
  {
   "cell_type": "code",
   "execution_count": 29,
   "id": "6216b8da-db1e-4f21-907f-0d1d70a931ca",
   "metadata": {},
   "outputs": [
    {
     "name": "stdout",
     "output_type": "stream",
     "text": [
      "Relatorio Comercial Agrupado exportado com sucesso ✅\n"
     ]
    }
   ],
   "source": [
    "relatorio_comercial.to_excel('relatório_agrupado_guerrilha.xlsx', index=False)\n",
    "\n",
    "print(f'Relatorio Comercial Agrupado exportado com sucesso ✅')"
   ]
  },
  {
   "cell_type": "code",
   "execution_count": 30,
   "id": "4f55e8cd-b83c-4b51-993b-287b55ce8c9b",
   "metadata": {},
   "outputs": [
    {
     "name": "stdout",
     "output_type": "stream",
     "text": [
      "<class 'pandas.core.frame.DataFrame'>\n",
      "RangeIndex: 5793 entries, 0 to 5792\n",
      "Data columns (total 27 columns):\n",
      " #   Column                         Non-Null Count  Dtype   \n",
      "---  ------                         --------------  -----   \n",
      " 0   loja                           5793 non-null   int32   \n",
      " 1   nome_posicao                   5793 non-null   object  \n",
      " 2   posicao_movel                  5793 non-null   object  \n",
      " 3   tipo_movel                     5793 non-null   category\n",
      " 4   dt_inicio                      5793 non-null   object  \n",
      " 5   dt_fim                         5793 non-null   object  \n",
      " 6   codigo_sku                     5793 non-null   int64   \n",
      " 7   ilha                           5793 non-null   object  \n",
      " 8   pe                             5793 non-null   object  \n",
      " 9   pg                             5793 non-null   object  \n",
      " 10  saldo_cd                       5793 non-null   float64 \n",
      " 11  venda_v30                      5793 non-null   float64 \n",
      " 12  DESCRICAO                      5793 non-null   category\n",
      " 13  SISTEMATICA                    5793 non-null   float64 \n",
      " 14  NOME_COMPRADOR                 5793 non-null   category\n",
      " 15  NOME_DEPARTAMENTO              5793 non-null   category\n",
      " 16  SECAO                          5793 non-null   float64 \n",
      " 17  NOME_SECAO                     5793 non-null   category\n",
      " 18  TIPO_EMB_TRANSF                5793 non-null   category\n",
      " 19  EAN                            5793 non-null   category\n",
      " 20  capacidade_item_movel_mapeado  5793 non-null   float64 \n",
      " 21  venda_30_posicao               5793 non-null   float64 \n",
      " 22  qtd_expositor_posicao          5793 non-null   int64   \n",
      " 23  percentual_rateio              5776 non-null   float64 \n",
      " 24  qtd_expositor_total            5793 non-null   int64   \n",
      " 25  qtd_mapeado_mesma_loja         5793 non-null   int64   \n",
      " 26  analisar                       5793 non-null   object  \n",
      "dtypes: category(7), float64(7), int32(1), int64(4), object(8)\n",
      "memory usage: 1.7+ MB\n"
     ]
    }
   ],
   "source": [
    "relatorio_comercial.info()"
   ]
  },
  {
   "cell_type": "code",
   "execution_count": 31,
   "id": "536e34eb-6e86-44b2-a85a-55cbc3699312",
   "metadata": {},
   "outputs": [],
   "source": [
    "relatorio_comercial['percentual_rateio'] = relatorio_comercial['percentual_rateio'].round(2)"
   ]
  },
  {
   "cell_type": "code",
   "execution_count": 32,
   "id": "3219387a-8540-4754-b18e-7d23a73bd648",
   "metadata": {},
   "outputs": [
    {
     "name": "stdout",
     "output_type": "stream",
     "text": [
      "relatório_agrupado_guerrilha.xlsx exportado com sucesso ✅\n"
     ]
    }
   ],
   "source": [
    "nome_relatorio_comercial = 'relatório_agrupado_guerrilha.xlsx'\n",
    "colunas_nao_alinhar = ['DESCRICAO', 'analisar','NOME_SECAO', 'NOME_DEPARTAMENTO','nome_posicao']\n",
    "\n",
    "col_to_letter = {col: get_column_letter(i+1) for i, col in enumerate(relatorio_comercial.columns)}\n",
    "colunas_nao_alinhar = [col_to_letter[col] for col in colunas_nao_alinhar if col in col_to_letter]\n",
    "\n",
    "\n",
    "wb = load_workbook(f'{nome_relatorio_comercial}')\n",
    "ws = wb.active\n",
    "\n",
    "\n",
    "for cell in ws[1]:\n",
    "    cell.fill = PatternFill(start_color=\"595959\", end_color=\"595959\", fill_type = \"solid\")\n",
    "    cell.font = Font(color=\"D9D9D9\")\n",
    "\n",
    "\n",
    "thin_border = Border(left=Side(style='thin'), \n",
    "                     right=Side(style='thin'), \n",
    "                     top=Side(style='thin'), \n",
    "                     bottom=Side(style='thin'))\n",
    "\n",
    "alignment = Alignment(horizontal='center', vertical='center')\n",
    "for row in ws:\n",
    "    for cell in row:\n",
    "        cell.border = thin_border\n",
    "        if cell.column_letter not in colunas_nao_alinhar:\n",
    "            cell.alignment = alignment    \n",
    "\n",
    "for i, col in enumerate(relatorio_comercial.columns):\n",
    "    max_length = max(\n",
    "        relatorio_comercial[col].astype(str).map(len).max(),\n",
    "        len(str(col))\n",
    "    )\n",
    "    ws.column_dimensions[get_column_letter(i+1)].width = max_length\n",
    "\n",
    "\n",
    "wb.save(nome_relatorio_comercial)\n",
    "wb.close();\n",
    "\n",
    "print(f'{nome_relatorio_comercial} exportado com sucesso ✅')"
   ]
  },
  {
   "cell_type": "markdown",
   "id": "9d050b96-ca65-45d1-a49c-e8754eeb9ff3",
   "metadata": {},
   "source": [
    "#### Relatorio por comprador"
   ]
  },
  {
   "cell_type": "code",
   "execution_count": 33,
   "id": "ee3cf6c1-5943-4dd7-950c-059a27eb013e",
   "metadata": {},
   "outputs": [
    {
     "data": {
      "text/plain": [
       "array(['✅ Ok', '⚠️ Atenção Expositor Maior que a venda!'], dtype=object)"
      ]
     },
     "execution_count": 33,
     "metadata": {},
     "output_type": "execute_result"
    }
   ],
   "source": [
    "relatorio_comercial['analisar'].unique()"
   ]
  },
  {
   "cell_type": "code",
   "execution_count": 34,
   "id": "c45df18c-7110-4918-984a-07a62961d987",
   "metadata": {},
   "outputs": [],
   "source": [
    "colunas_manter_relatorio_por_comprador = ['NOME_COMPRADOR','loja','codigo_sku','DESCRICAO','nome_posicao','posicao_movel','tipo_movel','venda_v30','qtd_expositor_total','qtd_mapeado_mesma_loja','analisar']\n",
    "\n",
    "relatorio_comercial_simplificado = relatorio_comercial[colunas_manter_relatorio_por_comprador]\n",
    "relatorio_comercial_simplificado = relatorio_comercial_simplificado[relatorio_comercial_simplificado['venda_v30'] > 0]\n",
    "\n"
   ]
  },
  {
   "cell_type": "code",
   "execution_count": 42,
   "id": "b14ed179-bfcb-469c-9d76-cf6c00fe25e8",
   "metadata": {},
   "outputs": [
    {
     "ename": "KeyError",
     "evalue": "'qtd_expositor_total'",
     "output_type": "error",
     "traceback": [
      "\u001b[1;31m---------------------------------------------------------------------------\u001b[0m",
      "\u001b[1;31mKeyError\u001b[0m                                  Traceback (most recent call last)",
      "File \u001b[1;32m~\\anaconda3\\Lib\\site-packages\\pandas\\core\\indexes\\base.py:3790\u001b[0m, in \u001b[0;36mIndex.get_loc\u001b[1;34m(self, key)\u001b[0m\n\u001b[0;32m   3789\u001b[0m \u001b[38;5;28;01mtry\u001b[39;00m:\n\u001b[1;32m-> 3790\u001b[0m     \u001b[38;5;28;01mreturn\u001b[39;00m \u001b[38;5;28;43mself\u001b[39;49m\u001b[38;5;241;43m.\u001b[39;49m\u001b[43m_engine\u001b[49m\u001b[38;5;241;43m.\u001b[39;49m\u001b[43mget_loc\u001b[49m\u001b[43m(\u001b[49m\u001b[43mcasted_key\u001b[49m\u001b[43m)\u001b[49m\n\u001b[0;32m   3791\u001b[0m \u001b[38;5;28;01mexcept\u001b[39;00m \u001b[38;5;167;01mKeyError\u001b[39;00m \u001b[38;5;28;01mas\u001b[39;00m err:\n",
      "File \u001b[1;32mindex.pyx:152\u001b[0m, in \u001b[0;36mpandas._libs.index.IndexEngine.get_loc\u001b[1;34m()\u001b[0m\n",
      "File \u001b[1;32mindex.pyx:181\u001b[0m, in \u001b[0;36mpandas._libs.index.IndexEngine.get_loc\u001b[1;34m()\u001b[0m\n",
      "File \u001b[1;32mpandas\\_libs\\hashtable_class_helper.pxi:7080\u001b[0m, in \u001b[0;36mpandas._libs.hashtable.PyObjectHashTable.get_item\u001b[1;34m()\u001b[0m\n",
      "File \u001b[1;32mpandas\\_libs\\hashtable_class_helper.pxi:7088\u001b[0m, in \u001b[0;36mpandas._libs.hashtable.PyObjectHashTable.get_item\u001b[1;34m()\u001b[0m\n",
      "\u001b[1;31mKeyError\u001b[0m: 'qtd_expositor_total'",
      "\nThe above exception was the direct cause of the following exception:\n",
      "\u001b[1;31mKeyError\u001b[0m                                  Traceback (most recent call last)",
      "Cell \u001b[1;32mIn[42], line 2\u001b[0m\n\u001b[0;32m      1\u001b[0m relatorio_comercial_simplificado \u001b[38;5;241m=\u001b[39m relatorio_comercial_simplificado\u001b[38;5;241m.\u001b[39mcopy()\n\u001b[1;32m----> 2\u001b[0m relatorio_comercial_simplificado[\u001b[38;5;124m'\u001b[39m\u001b[38;5;124mquantidade_a_mais_venda_30\u001b[39m\u001b[38;5;124m'\u001b[39m] \u001b[38;5;241m=\u001b[39m \u001b[43mrelatorio_comercial_simplificado\u001b[49m\u001b[43m[\u001b[49m\u001b[38;5;124;43m'\u001b[39;49m\u001b[38;5;124;43mqtd_expositor_total\u001b[39;49m\u001b[38;5;124;43m'\u001b[39;49m\u001b[43m]\u001b[49m \u001b[38;5;241m/\u001b[39m relatorio_comercial_simplificado[\u001b[38;5;124m'\u001b[39m\u001b[38;5;124mvenda_v30\u001b[39m\u001b[38;5;124m'\u001b[39m]\n\u001b[0;32m      4\u001b[0m relatorio_comercial_simplificado \u001b[38;5;241m=\u001b[39m relatorio_comercial_simplificado\u001b[38;5;241m.\u001b[39msort_values(by\u001b[38;5;241m=\u001b[39m\u001b[38;5;124m'\u001b[39m\u001b[38;5;124mquantidade_a_mais_venda_30\u001b[39m\u001b[38;5;124m'\u001b[39m, ascending\u001b[38;5;241m=\u001b[39m\u001b[38;5;28;01mFalse\u001b[39;00m)\n\u001b[0;32m      7\u001b[0m renomear_colunas_relatorio_comercial_simplificado \u001b[38;5;241m=\u001b[39m {\u001b[38;5;124m'\u001b[39m\u001b[38;5;124mloja\u001b[39m\u001b[38;5;124m'\u001b[39m:\u001b[38;5;124m'\u001b[39m\u001b[38;5;124mLoja\u001b[39m\u001b[38;5;124m'\u001b[39m,\n\u001b[0;32m      8\u001b[0m                                                      \u001b[38;5;124m'\u001b[39m\u001b[38;5;124mcodigo_sku\u001b[39m\u001b[38;5;124m'\u001b[39m:\u001b[38;5;124m'\u001b[39m\u001b[38;5;124mCódigo Produto\u001b[39m\u001b[38;5;124m'\u001b[39m,\n\u001b[0;32m      9\u001b[0m                                                      \u001b[38;5;124m'\u001b[39m\u001b[38;5;124mDESCRICAO\u001b[39m\u001b[38;5;124m'\u001b[39m:\u001b[38;5;124m'\u001b[39m\u001b[38;5;124mDescrição\u001b[39m\u001b[38;5;124m'\u001b[39m,\n\u001b[1;32m   (...)\u001b[0m\n\u001b[0;32m     16\u001b[0m                                                      \u001b[38;5;124m'\u001b[39m\u001b[38;5;124manalisar\u001b[39m\u001b[38;5;124m'\u001b[39m:\u001b[38;5;124m'\u001b[39m\u001b[38;5;124mAnalisar\u001b[39m\u001b[38;5;124m'\u001b[39m,\n\u001b[0;32m     17\u001b[0m                                                      \u001b[38;5;124m'\u001b[39m\u001b[38;5;124mNOME_COMPRADOR\u001b[39m\u001b[38;5;124m'\u001b[39m: \u001b[38;5;124m'\u001b[39m\u001b[38;5;124mComprador\u001b[39m\u001b[38;5;124m'\u001b[39m}\n",
      "File \u001b[1;32m~\\anaconda3\\Lib\\site-packages\\pandas\\core\\frame.py:3896\u001b[0m, in \u001b[0;36mDataFrame.__getitem__\u001b[1;34m(self, key)\u001b[0m\n\u001b[0;32m   3894\u001b[0m \u001b[38;5;28;01mif\u001b[39;00m \u001b[38;5;28mself\u001b[39m\u001b[38;5;241m.\u001b[39mcolumns\u001b[38;5;241m.\u001b[39mnlevels \u001b[38;5;241m>\u001b[39m \u001b[38;5;241m1\u001b[39m:\n\u001b[0;32m   3895\u001b[0m     \u001b[38;5;28;01mreturn\u001b[39;00m \u001b[38;5;28mself\u001b[39m\u001b[38;5;241m.\u001b[39m_getitem_multilevel(key)\n\u001b[1;32m-> 3896\u001b[0m indexer \u001b[38;5;241m=\u001b[39m \u001b[38;5;28;43mself\u001b[39;49m\u001b[38;5;241;43m.\u001b[39;49m\u001b[43mcolumns\u001b[49m\u001b[38;5;241;43m.\u001b[39;49m\u001b[43mget_loc\u001b[49m\u001b[43m(\u001b[49m\u001b[43mkey\u001b[49m\u001b[43m)\u001b[49m\n\u001b[0;32m   3897\u001b[0m \u001b[38;5;28;01mif\u001b[39;00m is_integer(indexer):\n\u001b[0;32m   3898\u001b[0m     indexer \u001b[38;5;241m=\u001b[39m [indexer]\n",
      "File \u001b[1;32m~\\anaconda3\\Lib\\site-packages\\pandas\\core\\indexes\\base.py:3797\u001b[0m, in \u001b[0;36mIndex.get_loc\u001b[1;34m(self, key)\u001b[0m\n\u001b[0;32m   3792\u001b[0m     \u001b[38;5;28;01mif\u001b[39;00m \u001b[38;5;28misinstance\u001b[39m(casted_key, \u001b[38;5;28mslice\u001b[39m) \u001b[38;5;129;01mor\u001b[39;00m (\n\u001b[0;32m   3793\u001b[0m         \u001b[38;5;28misinstance\u001b[39m(casted_key, abc\u001b[38;5;241m.\u001b[39mIterable)\n\u001b[0;32m   3794\u001b[0m         \u001b[38;5;129;01mand\u001b[39;00m \u001b[38;5;28many\u001b[39m(\u001b[38;5;28misinstance\u001b[39m(x, \u001b[38;5;28mslice\u001b[39m) \u001b[38;5;28;01mfor\u001b[39;00m x \u001b[38;5;129;01min\u001b[39;00m casted_key)\n\u001b[0;32m   3795\u001b[0m     ):\n\u001b[0;32m   3796\u001b[0m         \u001b[38;5;28;01mraise\u001b[39;00m InvalidIndexError(key)\n\u001b[1;32m-> 3797\u001b[0m     \u001b[38;5;28;01mraise\u001b[39;00m \u001b[38;5;167;01mKeyError\u001b[39;00m(key) \u001b[38;5;28;01mfrom\u001b[39;00m \u001b[38;5;21;01merr\u001b[39;00m\n\u001b[0;32m   3798\u001b[0m \u001b[38;5;28;01mexcept\u001b[39;00m \u001b[38;5;167;01mTypeError\u001b[39;00m:\n\u001b[0;32m   3799\u001b[0m     \u001b[38;5;66;03m# If we have a listlike key, _check_indexing_error will raise\u001b[39;00m\n\u001b[0;32m   3800\u001b[0m     \u001b[38;5;66;03m#  InvalidIndexError. Otherwise we fall through and re-raise\u001b[39;00m\n\u001b[0;32m   3801\u001b[0m     \u001b[38;5;66;03m#  the TypeError.\u001b[39;00m\n\u001b[0;32m   3802\u001b[0m     \u001b[38;5;28mself\u001b[39m\u001b[38;5;241m.\u001b[39m_check_indexing_error(key)\n",
      "\u001b[1;31mKeyError\u001b[0m: 'qtd_expositor_total'"
     ]
    }
   ],
   "source": [
    "relatorio_comercial_simplificado = relatorio_comercial_simplificado.copy()\n",
    "relatorio_comercial_simplificado['quantidade_a_mais_venda_30'] = relatorio_comercial_simplificado['qtd_expositor_total'] / relatorio_comercial_simplificado['venda_v30']\n",
    "\n",
    "relatorio_comercial_simplificado = relatorio_comercial_simplificado.sort_values(by='quantidade_a_mais_venda_30', ascending=False)\n",
    "\n",
    "\n",
    "renomear_colunas_relatorio_comercial_simplificado = {'loja':'Loja',\n",
    "                                                     'codigo_sku':'Código Produto',\n",
    "                                                     'DESCRICAO':'Descrição',\n",
    "                                                     'nome_posicao':'Nome da Posição',\n",
    "                                                     'posicao_movel':'Posição Móvel',\n",
    "                                                     'tipo_movel':'Tipo Móvel',\n",
    "                                                     'venda_v30':'Venda 30 Dias',\n",
    "                                                     'qtd_expositor_total':'Quantidade Expositor',\n",
    "                                                     'qtd_mapeado_mesma_loja':'Quantidades de Pontos mapeados',\n",
    "                                                     'analisar':'Analisar',\n",
    "                                                     'NOME_COMPRADOR': 'Comprador'}\n",
    "\n",
    "relatorio_comercial_simplificado.rename(columns=renomear_colunas_relatorio_comercial_simplificado,inplace=True)\n",
    "\n",
    "relatorio_comercial_simplificado = relatorio_comercial_simplificado[relatorio_comercial_simplificado['quantidade_a_mais_venda_30'] > 1 ]"
   ]
  },
  {
   "cell_type": "code",
   "execution_count": 37,
   "id": "64f8549a-4a76-4a2b-ad06-fa071785bda3",
   "metadata": {},
   "outputs": [],
   "source": [
    "relatorio_comercial_simplificado = relatorio_comercial_simplificado.copy()\n",
    "relatorio_comercial_simplificado.drop(columns=['quantidade_a_mais_venda_30'], inplace=True)\n",
    "\n",
    "relatorio_comercial_simplificado.to_excel('relatorio_comprador.xlsx', index=False)\n",
    "\n",
    "nome_relatorio_comercial_simplificado = 'relatorio_comprador.xlsx'\n",
    "colunas_nao_alinhar_simplificado = ['Comprador', 'Descrição', 'nome_posicao']"
   ]
  },
  {
   "cell_type": "code",
   "execution_count": 41,
   "id": "53fc052b-b22d-489e-a942-7a46972a4e26",
   "metadata": {},
   "outputs": [
    {
     "data": {
      "text/html": [
       "<div>\n",
       "<style scoped>\n",
       "    .dataframe tbody tr th:only-of-type {\n",
       "        vertical-align: middle;\n",
       "    }\n",
       "\n",
       "    .dataframe tbody tr th {\n",
       "        vertical-align: top;\n",
       "    }\n",
       "\n",
       "    .dataframe thead th {\n",
       "        text-align: right;\n",
       "    }\n",
       "</style>\n",
       "<table border=\"1\" class=\"dataframe\">\n",
       "  <thead>\n",
       "    <tr style=\"text-align: right;\">\n",
       "      <th></th>\n",
       "      <th>NOME_COMPRADOR</th>\n",
       "      <th>Loja</th>\n",
       "      <th>Código Produto</th>\n",
       "      <th>Descrição</th>\n",
       "      <th>Nome da Posição</th>\n",
       "      <th>Posição Móvel</th>\n",
       "      <th>Tipo Móvel</th>\n",
       "      <th>Venda 30 Dias</th>\n",
       "      <th>Quantidade Expositor</th>\n",
       "      <th>Quantidades de Pontos mapeados</th>\n",
       "      <th>Analisar</th>\n",
       "    </tr>\n",
       "  </thead>\n",
       "  <tbody>\n",
       "    <tr>\n",
       "      <th>1469</th>\n",
       "      <td>MAYARA PEREIRA</td>\n",
       "      <td>124</td>\n",
       "      <td>2235200</td>\n",
       "      <td>TALCO JOHNSONS 100g BABY HORA DO SONO</td>\n",
       "      <td>Ponta de Gôndola - Ponta de Gôndola - Perfumaria</td>\n",
       "      <td>P15</td>\n",
       "      <td>PG</td>\n",
       "      <td>6.0</td>\n",
       "      <td>399</td>\n",
       "      <td>1</td>\n",
       "      <td>⚠️ Atenção Expositor Maior que a venda!</td>\n",
       "    </tr>\n",
       "    <tr>\n",
       "      <th>1471</th>\n",
       "      <td>MAYARA PEREIRA</td>\n",
       "      <td>108</td>\n",
       "      <td>2235200</td>\n",
       "      <td>TALCO JOHNSONS 100g BABY HORA DO SONO</td>\n",
       "      <td>Ponta de Gôndola - Ponta de Gôndola - Perfumaria</td>\n",
       "      <td>P03</td>\n",
       "      <td>PG</td>\n",
       "      <td>8.0</td>\n",
       "      <td>339</td>\n",
       "      <td>1</td>\n",
       "      <td>⚠️ Atenção Expositor Maior que a venda!</td>\n",
       "    </tr>\n",
       "    <tr>\n",
       "      <th>1468</th>\n",
       "      <td>ROSELI DA ROSA</td>\n",
       "      <td>124</td>\n",
       "      <td>2061228</td>\n",
       "      <td>SABONETE LIQ.JOHNSONS 200ml KIDS SUP.POD</td>\n",
       "      <td>Ponta de Gôndola - Ponta de Gôndola - Perfumaria</td>\n",
       "      <td>P15</td>\n",
       "      <td>PG</td>\n",
       "      <td>1.0</td>\n",
       "      <td>42</td>\n",
       "      <td>1</td>\n",
       "      <td>⚠️ Atenção Expositor Maior que a venda!</td>\n",
       "    </tr>\n",
       "    <tr>\n",
       "      <th>1465</th>\n",
       "      <td>MAYARA PEREIRA</td>\n",
       "      <td>205</td>\n",
       "      <td>2235200</td>\n",
       "      <td>TALCO JOHNSONS 100g BABY HORA DO SONO</td>\n",
       "      <td>Ponta de Gôndola - Ponta de Gôndola - Perfumaria</td>\n",
       "      <td>P05</td>\n",
       "      <td>PG</td>\n",
       "      <td>10.0</td>\n",
       "      <td>362</td>\n",
       "      <td>1</td>\n",
       "      <td>⚠️ Atenção Expositor Maior que a venda!</td>\n",
       "    </tr>\n",
       "    <tr>\n",
       "      <th>415</th>\n",
       "      <td>MAYARA PEREIRA</td>\n",
       "      <td>310</td>\n",
       "      <td>1947974</td>\n",
       "      <td>SHAMPOO MONANGE 325ml BOOST CRESCIMENTO</td>\n",
       "      <td>Ponta de Gôndola - Ponta de Gôndola - Perfumaria</td>\n",
       "      <td>P23</td>\n",
       "      <td>PG</td>\n",
       "      <td>2.0</td>\n",
       "      <td>66</td>\n",
       "      <td>1</td>\n",
       "      <td>⚠️ Atenção Expositor Maior que a venda!</td>\n",
       "    </tr>\n",
       "    <tr>\n",
       "      <th>...</th>\n",
       "      <td>...</td>\n",
       "      <td>...</td>\n",
       "      <td>...</td>\n",
       "      <td>...</td>\n",
       "      <td>...</td>\n",
       "      <td>...</td>\n",
       "      <td>...</td>\n",
       "      <td>...</td>\n",
       "      <td>...</td>\n",
       "      <td>...</td>\n",
       "      <td>...</td>\n",
       "    </tr>\n",
       "    <tr>\n",
       "      <th>1297</th>\n",
       "      <td>ROSELI DA ROSA</td>\n",
       "      <td>167</td>\n",
       "      <td>2103532</td>\n",
       "      <td>DESODORANTE AERO NIVEA 200ml DRY COMF.EC</td>\n",
       "      <td>Ponta de Gôndola - Ponta de Gôndola - Perfumaria</td>\n",
       "      <td>P15</td>\n",
       "      <td>PG</td>\n",
       "      <td>41.0</td>\n",
       "      <td>42</td>\n",
       "      <td>1</td>\n",
       "      <td>⚠️ Atenção Expositor Maior que a venda!</td>\n",
       "    </tr>\n",
       "    <tr>\n",
       "      <th>4927</th>\n",
       "      <td>MARCOS TROMBIM</td>\n",
       "      <td>205</td>\n",
       "      <td>2203758</td>\n",
       "      <td>LAVA ROUPA PO TIXAN YPE L1,6P1,52kg MAC</td>\n",
       "      <td>Ponta de Gôndola - Ponta de Gôndola - Limpeza</td>\n",
       "      <td>P07</td>\n",
       "      <td>PG</td>\n",
       "      <td>46.0</td>\n",
       "      <td>47</td>\n",
       "      <td>1</td>\n",
       "      <td>⚠️ Atenção Expositor Maior que a venda!</td>\n",
       "    </tr>\n",
       "    <tr>\n",
       "      <th>5544</th>\n",
       "      <td>JEFERSON FOLADOR</td>\n",
       "      <td>116</td>\n",
       "      <td>1664760</td>\n",
       "      <td>BOMBOM LACTA 250,6g FAVORITOS</td>\n",
       "      <td>ILHA - Ilha - Jeferson</td>\n",
       "      <td>IC13</td>\n",
       "      <td>ILHA</td>\n",
       "      <td>379.0</td>\n",
       "      <td>382</td>\n",
       "      <td>1</td>\n",
       "      <td>⚠️ Atenção Expositor Maior que a venda!</td>\n",
       "    </tr>\n",
       "    <tr>\n",
       "      <th>3636</th>\n",
       "      <td>MARIANI MACHADO</td>\n",
       "      <td>108</td>\n",
       "      <td>1711660</td>\n",
       "      <td>PASTA AMENDOIM AMENDO POWER 500g INTEG</td>\n",
       "      <td>Ponta de Gôndola - Ponta de Gôndola - Carolini</td>\n",
       "      <td>P59</td>\n",
       "      <td>PG</td>\n",
       "      <td>127.0</td>\n",
       "      <td>128</td>\n",
       "      <td>1</td>\n",
       "      <td>⚠️ Atenção Expositor Maior que a venda!</td>\n",
       "    </tr>\n",
       "    <tr>\n",
       "      <th>3635</th>\n",
       "      <td>MARIANI MACHADO</td>\n",
       "      <td>108</td>\n",
       "      <td>1865838</td>\n",
       "      <td>PASTA AMENDOIM AMENDO POWER 500g CRUNCHY</td>\n",
       "      <td>Ponta de Gôndola - Ponta de Gôndola - Carolini</td>\n",
       "      <td>P59</td>\n",
       "      <td>PG</td>\n",
       "      <td>139.0</td>\n",
       "      <td>140</td>\n",
       "      <td>1</td>\n",
       "      <td>⚠️ Atenção Expositor Maior que a venda!</td>\n",
       "    </tr>\n",
       "  </tbody>\n",
       "</table>\n",
       "<p>790 rows × 11 columns</p>\n",
       "</div>"
      ],
      "text/plain": [
       "        NOME_COMPRADOR  Loja  Código Produto  \\\n",
       "1469    MAYARA PEREIRA   124         2235200   \n",
       "1471    MAYARA PEREIRA   108         2235200   \n",
       "1468    ROSELI DA ROSA   124         2061228   \n",
       "1465    MAYARA PEREIRA   205         2235200   \n",
       "415     MAYARA PEREIRA   310         1947974   \n",
       "...                ...   ...             ...   \n",
       "1297    ROSELI DA ROSA   167         2103532   \n",
       "4927    MARCOS TROMBIM   205         2203758   \n",
       "5544  JEFERSON FOLADOR   116         1664760   \n",
       "3636   MARIANI MACHADO   108         1711660   \n",
       "3635   MARIANI MACHADO   108         1865838   \n",
       "\n",
       "                                     Descrição  \\\n",
       "1469  TALCO JOHNSONS 100g BABY HORA DO SONO      \n",
       "1471  TALCO JOHNSONS 100g BABY HORA DO SONO      \n",
       "1468  SABONETE LIQ.JOHNSONS 200ml KIDS SUP.POD   \n",
       "1465  TALCO JOHNSONS 100g BABY HORA DO SONO      \n",
       "415    SHAMPOO MONANGE 325ml BOOST CRESCIMENTO   \n",
       "...                                        ...   \n",
       "1297  DESODORANTE AERO NIVEA 200ml DRY COMF.EC   \n",
       "4927   LAVA ROUPA PO TIXAN YPE L1,6P1,52kg MAC   \n",
       "5544             BOMBOM LACTA 250,6g FAVORITOS   \n",
       "3636    PASTA AMENDOIM AMENDO POWER 500g INTEG   \n",
       "3635  PASTA AMENDOIM AMENDO POWER 500g CRUNCHY   \n",
       "\n",
       "                                       Nome da Posição Posição Móvel  \\\n",
       "1469  Ponta de Gôndola - Ponta de Gôndola - Perfumaria           P15   \n",
       "1471  Ponta de Gôndola - Ponta de Gôndola - Perfumaria           P03   \n",
       "1468  Ponta de Gôndola - Ponta de Gôndola - Perfumaria           P15   \n",
       "1465  Ponta de Gôndola - Ponta de Gôndola - Perfumaria           P05   \n",
       "415   Ponta de Gôndola - Ponta de Gôndola - Perfumaria           P23   \n",
       "...                                                ...           ...   \n",
       "1297  Ponta de Gôndola - Ponta de Gôndola - Perfumaria           P15   \n",
       "4927     Ponta de Gôndola - Ponta de Gôndola - Limpeza           P07   \n",
       "5544                            ILHA - Ilha - Jeferson          IC13   \n",
       "3636    Ponta de Gôndola - Ponta de Gôndola - Carolini           P59   \n",
       "3635    Ponta de Gôndola - Ponta de Gôndola - Carolini           P59   \n",
       "\n",
       "     Tipo Móvel  Venda 30 Dias  Quantidade Expositor  \\\n",
       "1469         PG            6.0                   399   \n",
       "1471         PG            8.0                   339   \n",
       "1468         PG            1.0                    42   \n",
       "1465         PG           10.0                   362   \n",
       "415          PG            2.0                    66   \n",
       "...         ...            ...                   ...   \n",
       "1297         PG           41.0                    42   \n",
       "4927         PG           46.0                    47   \n",
       "5544       ILHA          379.0                   382   \n",
       "3636         PG          127.0                   128   \n",
       "3635         PG          139.0                   140   \n",
       "\n",
       "      Quantidades de Pontos mapeados                                 Analisar  \n",
       "1469                               1  ⚠️ Atenção Expositor Maior que a venda!  \n",
       "1471                               1  ⚠️ Atenção Expositor Maior que a venda!  \n",
       "1468                               1  ⚠️ Atenção Expositor Maior que a venda!  \n",
       "1465                               1  ⚠️ Atenção Expositor Maior que a venda!  \n",
       "415                                1  ⚠️ Atenção Expositor Maior que a venda!  \n",
       "...                              ...                                      ...  \n",
       "1297                               1  ⚠️ Atenção Expositor Maior que a venda!  \n",
       "4927                               1  ⚠️ Atenção Expositor Maior que a venda!  \n",
       "5544                               1  ⚠️ Atenção Expositor Maior que a venda!  \n",
       "3636                               1  ⚠️ Atenção Expositor Maior que a venda!  \n",
       "3635                               1  ⚠️ Atenção Expositor Maior que a venda!  \n",
       "\n",
       "[790 rows x 11 columns]"
      ]
     },
     "execution_count": 41,
     "metadata": {},
     "output_type": "execute_result"
    }
   ],
   "source": [
    "relatorio_comercial_simplificado "
   ]
  },
  {
   "cell_type": "code",
   "execution_count": 39,
   "id": "b08cf989-331a-4cca-871f-7635c7d65603",
   "metadata": {},
   "outputs": [
    {
     "name": "stdout",
     "output_type": "stream",
     "text": [
      "relatorio_comprador.xlsx gerado com sucesso! ✅\n"
     ]
    }
   ],
   "source": [
    "grupos_comprador = relatorio_comercial_simplificado.groupby('Comprador')\n",
    "\n",
    "if not relatorio_comercial_simplificado.empty:\n",
    "    writer = pd.Excex\n",
    "\n",
    "\n",
    "\n",
    "col_to_letter = {col: get_column_letter(i+1) for i, col in enumerate(relatorio_comercial_simplificado.columns)}\n",
    "colunas_nao_alinhar_simplificado = [col_to_letter[col] for col in colunas_nao_alinhar_simplificado if col in col_to_letter]\n",
    "\n",
    "wb = load_workbook(f'{nome_relatorio_comercial_simplificado}')\n",
    "\n",
    "\n",
    "\n",
    "\n",
    "\n",
    "\n",
    "\n",
    "\n",
    "\n",
    "for ws in wb.worksheets:  # Itera sobre todas as planilhas no arquivo\n",
    "    for cell in ws[1]:\n",
    "        cell.fill = PatternFill(start_color=\"595959\", end_color=\"595959\", fill_type = \"solid\")\n",
    "        cell.font = Font(color=\"D9D9D9\")\n",
    "\n",
    "    thin_border = Border(left=Side(style='thin'), \n",
    "                         right=Side(style='thin'), \n",
    "                         top=Side(style='thin'), \n",
    "                         bottom=Side(style='thin'))\n",
    "\n",
    "    alignment = Alignment(horizontal='center', vertical='center')\n",
    "    for row in ws:\n",
    "        for cell in row:\n",
    "            cell.border = thin_border\n",
    "            if cell.column_letter not in colunas_nao_alinhar_simplificado:\n",
    "                cell.alignment = alignment    \n",
    "\n",
    "    for i, col in enumerate(relatorio_comercial_simplificado.columns):\n",
    "        max_length = max(\n",
    "            relatorio_comercial_simplificado[col].astype(str).map(len).max(),\n",
    "            len(str(col))\n",
    "        )\n",
    "        ws.column_dimensions[get_column_letter(i+1)].width = max_length\n",
    "\n",
    "wb.save(nome_relatorio_comercial_simplificado)\n",
    "wb.close();\n",
    "\n",
    "print(f'{nome_relatorio_comercial_simplificado} gerado com sucesso! ✅')\n"
   ]
  },
  {
   "cell_type": "code",
   "execution_count": null,
   "id": "39ec5931-bfac-4e2a-825d-8f044725552d",
   "metadata": {},
   "outputs": [],
   "source": []
  }
 ],
 "metadata": {
  "kernelspec": {
   "display_name": "Python 3 (ipykernel)",
   "language": "python",
   "name": "python3"
  },
  "language_info": {
   "codemirror_mode": {
    "name": "ipython",
    "version": 3
   },
   "file_extension": ".py",
   "mimetype": "text/x-python",
   "name": "python",
   "nbconvert_exporter": "python",
   "pygments_lexer": "ipython3",
   "version": "3.11.4"
  }
 },
 "nbformat": 4,
 "nbformat_minor": 5
}
